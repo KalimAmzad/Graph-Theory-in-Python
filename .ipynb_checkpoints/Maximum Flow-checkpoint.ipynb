{
 "cells": [
  {
   "cell_type": "code",
   "execution_count": null,
   "metadata": {
    "collapsed": true
   },
   "outputs": [],
   "source": [
    "import networkx as nx\n",
    "import matplotlib.pyplot as plt\n",
    "from collections import deque\n",
    "import random\n"
   ]
  },
  {
   "cell_type": "markdown",
   "metadata": {},
   "source": [
    "## Breadth First Search -- BFS"
   ]
  },
  {
   "cell_type": "code",
   "execution_count": null,
   "metadata": {
    "collapsed": true
   },
   "outputs": [],
   "source": [
    "def BFS(start, target, parent, node):\n",
    "    queue = deque()  \n",
    "    visited = [False for i in range(node+1)]\n",
    "    start = str(start)\n",
    "    target = str(target)\n",
    "    \n",
    "    queue.append(start)\n",
    "    visited[int(start)] = True\n",
    "    \n",
    "    while queue:\n",
    "        u = queue.popleft()\n",
    "        adj = G.adj[u]\n",
    "        for v, wt in adj.items():\n",
    "            if not visited[int(v)] and wt['weight']:\n",
    "                queue.append(v)\n",
    "                visited[int(v)] = True\n",
    "                parent[int(v)] = u\n",
    "    \n",
    "    return True if visited[int(target)] else False\n",
    "        \n",
    "            "
   ]
  },
  {
   "cell_type": "markdown",
   "metadata": {},
   "source": [
    "## FordFulkerson Algorithm"
   ]
  },
  {
   "cell_type": "code",
   "execution_count": 16,
   "metadata": {},
   "outputs": [],
   "source": [
    "def FordFulkerson(source, sink, node):\n",
    "    parent = ['0' for i in range(node+1)]\n",
    "    max_flow = 0\n",
    "    \n",
    "    while BFS(source, sink, parent, node):\n",
    "        print(\"Parent: \", parent)\n",
    "        current_flow = 1000000000\n",
    "        u = sink\n",
    "        while(u is not source):\n",
    "            wt = int(G[parent[int(u)]][u]['weight'])\n",
    "            current_flow = min(current_flow, wt) # G[1][key]['weight']\n",
    "            u = parent[int(u)]\n",
    "        max_flow += current_flow\n",
    "        \n",
    "        v = sink\n",
    "        while v is not source:\n",
    "            p = parent[int(v)]\n",
    "            p = str(p)\n",
    "            print(\"P: \", type(p))\n",
    "            wt = int(G[p][u]['weight'])\n",
    "            print(wt, type(wt))\n",
    "            G[int(p)][int(u)]['weight'] = str(wt- current_flow)\n",
    "            G[int(u)][int(p)]['weight'] = str(wt + current_flow)\n",
    "    \n",
    "    return max_flow\n",
    "            "
   ]
  },
  {
   "cell_type": "markdown",
   "metadata": {},
   "source": [
    "## Creating the Graph"
   ]
  },
  {
   "cell_type": "code",
   "execution_count": null,
   "metadata": {},
   "outputs": [],
   "source": [
    "def CreateGraph():\n",
    "    G = nx.DiGraph()\n",
    "    f = open('input.txt')\n",
    "    n = int(f.readline())\n",
    "    for i in range(n):\n",
    "        u, v, w = f.readline().split()\n",
    "        G.add_edge(u, v, weight = w) \n",
    "        G.add_edge(v, u, weight = 0)\n",
    "    return G\n",
    "\n",
    "'''\n",
    "def CreateGraph(node, edge):\n",
    "    G = nx.DiGraph()\n",
    "    \n",
    "    for i in range(1, node+1):\n",
    "        G.add_node(i)\n",
    "    for i in range(edge):\n",
    "        u, v = random.randint(1, node), random.randint(1, node)\n",
    "        wt = random.randint(1, 10)\n",
    "        G.add_edge(u, v, weight = wt)\n",
    "        G.add_edge(v, u, weight = 0)\n",
    "\n",
    "    return G\n",
    "\n",
    "'''\n",
    "\n"
   ]
  },
  {
   "cell_type": "markdown",
   "metadata": {},
   "source": [
    "## Drawing Graph"
   ]
  },
  {
   "cell_type": "code",
   "execution_count": null,
   "metadata": {
    "collapsed": true
   },
   "outputs": [],
   "source": [
    "def DrawGraph(G, color):\n",
    "    pos = nx.spring_layout(G)\n",
    "    nx.draw(G, pos, with_labels = True, node_color = color, edge_color = 'black' ,width = 1, alpha = 0.7)  #with_labels=true is to show the node number in the output graph\n"
   ]
  },
  {
   "cell_type": "markdown",
   "metadata": {},
   "source": [
    "## Driving Function"
   ]
  },
  {
   "cell_type": "code",
   "execution_count": 17,
   "metadata": {
    "scrolled": false
   },
   "outputs": [
    {
     "name": "stdout",
     "output_type": "stream",
     "text": [
      "['0', '1', '3', '5', '4', '2']\n",
      "{'1': {'weight': '16'}, '2': {'weight': '13'}}\n",
      "1 16 <class 'str'>\n",
      "16\n",
      "2 13 <class 'str'>\n",
      "13\n",
      "Source: 0\n",
      "Sink: 5\n",
      "<class 'str'> <class 'str'> 6 <class 'int'>\n"
     ]
    },
    {
     "data": {
      "image/png": "[encoded data removed]",
      "text/plain": [
       "<matplotlib.figure.Figure at 0x1d89a8a44a8>"
      ]
     },
     "metadata": {},
     "output_type": "display_data"
    },
    {
     "name": "stdout",
     "output_type": "stream",
     "text": [
      "Parent:  ['0', '0', '0', '1', '2', '3', '0']\n",
      "P:  <class 'str'>\n"
     ]
    },
    {
     "ename": "KeyError",
     "evalue": "'0'",
     "output_type": "error",
     "traceback": [
      "\u001b[1;31m---------------------------------------------------------------------------\u001b[0m",
      "\u001b[1;31mKeyError\u001b[0m                                  Traceback (most recent call last)",
      "\u001b[1;32m<ipython-input-17-9b3bcf64ea3b>\u001b[0m in \u001b[0;36m<module>\u001b[1;34m()\u001b[0m\n\u001b[0;32m     37\u001b[0m     \u001b[0mplt\u001b[0m\u001b[1;33m.\u001b[0m\u001b[0mshow\u001b[0m\u001b[1;33m(\u001b[0m\u001b[1;33m)\u001b[0m\u001b[1;33m\u001b[0m\u001b[0m\n\u001b[0;32m     38\u001b[0m \u001b[1;33m\u001b[0m\u001b[0m\n\u001b[1;32m---> 39\u001b[1;33m     \u001b[0mprint\u001b[0m\u001b[1;33m(\u001b[0m\u001b[0mFordFulkerson\u001b[0m\u001b[1;33m(\u001b[0m\u001b[0msource\u001b[0m\u001b[1;33m,\u001b[0m \u001b[0msink\u001b[0m\u001b[1;33m,\u001b[0m \u001b[0mnode\u001b[0m\u001b[1;33m)\u001b[0m\u001b[1;33m)\u001b[0m\u001b[1;33m\u001b[0m\u001b[0m\n\u001b[0m\u001b[0;32m     40\u001b[0m \u001b[1;33m\u001b[0m\u001b[0m\n\u001b[0;32m     41\u001b[0m \u001b[1;33m\u001b[0m\u001b[0m\n",
      "\u001b[1;32m<ipython-input-16-5ea50c38d846>\u001b[0m in \u001b[0;36mFordFulkerson\u001b[1;34m(source, sink, node)\u001b[0m\n\u001b[0;32m     18\u001b[0m             \u001b[0mp\u001b[0m \u001b[1;33m=\u001b[0m \u001b[0mstr\u001b[0m\u001b[1;33m(\u001b[0m\u001b[0mp\u001b[0m\u001b[1;33m)\u001b[0m\u001b[1;33m\u001b[0m\u001b[0m\n\u001b[0;32m     19\u001b[0m             \u001b[0mprint\u001b[0m\u001b[1;33m(\u001b[0m\u001b[1;34m\"P: \"\u001b[0m\u001b[1;33m,\u001b[0m \u001b[0mtype\u001b[0m\u001b[1;33m(\u001b[0m\u001b[0mp\u001b[0m\u001b[1;33m)\u001b[0m\u001b[1;33m)\u001b[0m\u001b[1;33m\u001b[0m\u001b[0m\n\u001b[1;32m---> 20\u001b[1;33m             \u001b[0mwt\u001b[0m \u001b[1;33m=\u001b[0m \u001b[0mint\u001b[0m\u001b[1;33m(\u001b[0m\u001b[0mG\u001b[0m\u001b[1;33m[\u001b[0m\u001b[0mp\u001b[0m\u001b[1;33m]\u001b[0m\u001b[1;33m[\u001b[0m\u001b[0mu\u001b[0m\u001b[1;33m]\u001b[0m\u001b[1;33m[\u001b[0m\u001b[1;34m'weight'\u001b[0m\u001b[1;33m]\u001b[0m\u001b[1;33m)\u001b[0m\u001b[1;33m\u001b[0m\u001b[0m\n\u001b[0m\u001b[0;32m     21\u001b[0m             \u001b[0mprint\u001b[0m\u001b[1;33m(\u001b[0m\u001b[0mwt\u001b[0m\u001b[1;33m,\u001b[0m \u001b[0mtype\u001b[0m\u001b[1;33m(\u001b[0m\u001b[0mwt\u001b[0m\u001b[1;33m)\u001b[0m\u001b[1;33m)\u001b[0m\u001b[1;33m\u001b[0m\u001b[0m\n\u001b[0;32m     22\u001b[0m             \u001b[0mG\u001b[0m\u001b[1;33m[\u001b[0m\u001b[0mint\u001b[0m\u001b[1;33m(\u001b[0m\u001b[0mp\u001b[0m\u001b[1;33m)\u001b[0m\u001b[1;33m]\u001b[0m\u001b[1;33m[\u001b[0m\u001b[0mint\u001b[0m\u001b[1;33m(\u001b[0m\u001b[0mu\u001b[0m\u001b[1;33m)\u001b[0m\u001b[1;33m]\u001b[0m\u001b[1;33m[\u001b[0m\u001b[1;34m'weight'\u001b[0m\u001b[1;33m]\u001b[0m \u001b[1;33m=\u001b[0m \u001b[0mstr\u001b[0m\u001b[1;33m(\u001b[0m\u001b[0mwt\u001b[0m\u001b[1;33m-\u001b[0m \u001b[0mcurrent_flow\u001b[0m\u001b[1;33m)\u001b[0m\u001b[1;33m\u001b[0m\u001b[0m\n",
      "\u001b[1;32m~\\Anaconda3\\lib\\site-packages\\networkx\\classes\\coreviews.py\u001b[0m in \u001b[0;36m__getitem__\u001b[1;34m(self, key)\u001b[0m\n\u001b[0;32m     53\u001b[0m \u001b[1;33m\u001b[0m\u001b[0m\n\u001b[0;32m     54\u001b[0m     \u001b[1;32mdef\u001b[0m \u001b[0m__getitem__\u001b[0m\u001b[1;33m(\u001b[0m\u001b[0mself\u001b[0m\u001b[1;33m,\u001b[0m \u001b[0mkey\u001b[0m\u001b[1;33m)\u001b[0m\u001b[1;33m:\u001b[0m\u001b[1;33m\u001b[0m\u001b[0m\n\u001b[1;32m---> 55\u001b[1;33m         \u001b[1;32mreturn\u001b[0m \u001b[0mself\u001b[0m\u001b[1;33m.\u001b[0m\u001b[0m_atlas\u001b[0m\u001b[1;33m[\u001b[0m\u001b[0mkey\u001b[0m\u001b[1;33m]\u001b[0m\u001b[1;33m\u001b[0m\u001b[0m\n\u001b[0m\u001b[0;32m     56\u001b[0m \u001b[1;33m\u001b[0m\u001b[0m\n\u001b[0;32m     57\u001b[0m     \u001b[1;32mdef\u001b[0m \u001b[0mcopy\u001b[0m\u001b[1;33m(\u001b[0m\u001b[0mself\u001b[0m\u001b[1;33m)\u001b[0m\u001b[1;33m:\u001b[0m\u001b[1;33m\u001b[0m\u001b[0m\n",
      "\u001b[1;31mKeyError\u001b[0m: '0'"
     ]
    }
   ],
   "source": [
    "if __name__ == \"__main__\":\n",
    "    \n",
    "    '''\n",
    "    print(\"Input node no: \", end = \"\")\n",
    "    node = int(input())\n",
    "    print(\"Input edge no: \", end = \"\")\n",
    "    edge = int(input())\n",
    "    \n",
    "    G = CreateGraph(node, edge)\n",
    "    print(\"Nodes: \", G.nodes)\n",
    "    \n",
    "    \n",
    "    print(G.adj[1])\n",
    "    x = G.adj[1]\n",
    "    for key, val in x.items():\n",
    "        print(key, val['weight'])\n",
    "        print(G[1][key]['weight'])\n",
    "    '''\n",
    "    G = CreateGraph()\n",
    "    print(G.nodes)\n",
    "    print(G.adj[str(0)])\n",
    "    x = G.adj['0']\n",
    "    for key, val in x.items():\n",
    "        print(key, val['weight'], type(val['weight']))\n",
    "        print(G['0'][str(key)]['weight'])\n",
    "        \n",
    "    node = len(G.nodes)\n",
    "    source = input(\"Source: \")\n",
    "    sink = input(\"Sink: \")\n",
    "    \n",
    "    print(type(source), type(sink), node, type(node))\n",
    "    #print(list(G.edges))\n",
    "    #print(list(G.adj))\n",
    "    #print(list(G.degree))\n",
    "    \n",
    "    DrawGraph(G, \"yellow\")\n",
    "    plt.show()\n",
    "    \n",
    "    print(FordFulkerson(source, sink, node))\n",
    "    \n",
    "        "
   ]
  },
  {
   "cell_type": "markdown",
   "metadata": {},
   "source": []
  }
 ],
 "metadata": {
  "kernelspec": {
   "display_name": "Python 3",
   "language": "python",
   "name": "python3"
  },
  "language_info": {
   "codemirror_mode": {
    "name": "ipython",
    "version": 3
   },
   "file_extension": ".py",
   "mimetype": "text/x-python",
   "name": "python",
   "nbconvert_exporter": "python",
   "pygments_lexer": "ipython3",
   "version": "3.6.3"
  }
 },
 "nbformat": 4,
 "nbformat_minor": 2
}
