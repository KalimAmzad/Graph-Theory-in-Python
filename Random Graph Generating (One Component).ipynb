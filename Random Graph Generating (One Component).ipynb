{
 "cells": [
  {
   "cell_type": "code",
   "execution_count": 1,
   "metadata": {
    "collapsed": true
   },
   "outputs": [],
   "source": [
    "import networkx as nx\n",
    "import matplotlib.pyplot as plt\n",
    "from collections import deque\n",
    "import random"
   ]
  },
  {
   "cell_type": "markdown",
   "metadata": {},
   "source": [
    "## BFS"
   ]
  },
  {
   "cell_type": "code",
   "execution_count": 2,
   "metadata": {
    "collapsed": true
   },
   "outputs": [],
   "source": [
    "def BFS(start):\n",
    "    queue = deque()  \n",
    "    queue.append(start)\n",
    "    \n",
    "    visited = [False] * (nodes+1)\n",
    "    visited[start] = True\n",
    "    \n",
    "    while queue:\n",
    "        u = queue.popleft()\n",
    "        for v in G.adj[u]:\n",
    "            if not visited[v]:\n",
    "                queue.append(v)\n",
    "                visited[v] = True\n",
    "    visited[0] = True\n",
    "    for i in range(nodes+1):\n",
    "        if visited[i] == False:\n",
    "            return False\n",
    "    return True\n",
    "                "
   ]
  },
  {
   "cell_type": "markdown",
   "metadata": {},
   "source": [
    "## Creating Graph"
   ]
  },
  {
   "cell_type": "code",
   "execution_count": 3,
   "metadata": {
    "collapsed": true
   },
   "outputs": [],
   "source": [
    "def CreateGraph(node, edge):\n",
    "    G = nx.Graph()\n",
    "    \n",
    "    for i in range(1, node+1):\n",
    "        G.add_node(i)\n",
    "        \n",
    "    for i in range(edge):\n",
    "        u, v = random.randint(1, node), random.randint(1, node)\n",
    "        G.add_edge(u, v)\n",
    "\n",
    "    return G\n"
   ]
  },
  {
   "cell_type": "markdown",
   "metadata": {},
   "source": [
    "## Drawing Graph"
   ]
  },
  {
   "cell_type": "code",
   "execution_count": 4,
   "metadata": {
    "collapsed": true
   },
   "outputs": [],
   "source": [
    "def DrawGraph(G, color):\n",
    "    pos = nx.spring_layout(G)\n",
    "    nx.draw(G, pos, with_labels = True, node_color = color, edge_color = 'black' ,width = 1, alpha = 0.7)  #with_labels=true is to show the node number in the output graph\n"
   ]
  },
  {
   "cell_type": "markdown",
   "metadata": {},
   "source": [
    "## Driving Function"
   ]
  },
  {
   "cell_type": "code",
   "execution_count": 5,
   "metadata": {},
   "outputs": [
    {
     "name": "stdout",
     "output_type": "stream",
     "text": [
      "Node: 8\n",
      "Edges: 16\n",
      "[1, 2, 3, 4, 5, 6, 7, 8]\n"
     ]
    },
    {
     "data": {
      "image/png": "[encoded data removed]",
      "text/plain": [
       "<matplotlib.figure.Figure at 0x1bdb12e1550>"
      ]
     },
     "metadata": {},
     "output_type": "display_data"
    },
    {
     "name": "stdout",
     "output_type": "stream",
     "text": [
      "Node: 8\n",
      "Edges: 15\n",
      "[1, 2, 3, 4, 5, 6, 7, 8]\n"
     ]
    },
    {
     "data": {
      "image/png": "[encoded data removed]",
      "text/plain": [
       "<matplotlib.figure.Figure at 0x1bdb133c630>"
      ]
     },
     "metadata": {},
     "output_type": "display_data"
    }
   ],
   "source": [
    "if __name__ == \"__main__\":\n",
    "    nodes = int(input(\"Node: \"))\n",
    "    edges = int(input(\"Edges: \"))\n",
    "    G = CreateGraph(nodes, edges)\n",
    "    \n",
    "    print(G.nodes)\n",
    "    DrawGraph(G, \"green\")\n",
    "    plt.show()\n",
    "    \n",
    "    while not BFS(1):\n",
    "        nodes = int(input(\"Node: \"))\n",
    "        edges = int(input(\"Edges: \"))\n",
    "        G = CreateGraph(nodes, edges)\n",
    "\n",
    "        print(G.nodes)\n",
    "        DrawGraph(G, \"green\")\n",
    "        plt.show()\n",
    "\n",
    "    "
   ]
  },
  {
   "cell_type": "code",
   "execution_count": null,
   "metadata": {
    "collapsed": true
   },
   "outputs": [],
   "source": []
  }
 ],
 "metadata": {
  "kernelspec": {
   "display_name": "Python 3",
   "language": "python",
   "name": "python3"
  },
  "language_info": {
   "codemirror_mode": {
    "name": "ipython",
    "version": 3
   },
   "file_extension": ".py",
   "mimetype": "text/x-python",
   "name": "python",
   "nbconvert_exporter": "python",
   "pygments_lexer": "ipython3",
   "version": "3.6.3"
  }
 },
 "nbformat": 4,
 "nbformat_minor": 2
}
