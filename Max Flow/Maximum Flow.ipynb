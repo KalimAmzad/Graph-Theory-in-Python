{
 "cells": [
  {
   "cell_type": "code",
   "execution_count": 1,
   "metadata": {
    "collapsed": true
   },
   "outputs": [],
   "source": [
    "import networkx as nx\n",
    "import matplotlib.pyplot as plt\n",
    "from collections import deque\n",
    "import random\n"
   ]
  },
  {
   "cell_type": "markdown",
   "metadata": {},
   "source": [
    "## Breadth First Search -- BFS"
   ]
  },
  {
   "cell_type": "code",
   "execution_count": 2,
   "metadata": {
    "collapsed": true
   },
   "outputs": [],
   "source": [
    "def BFS(start, target, parent, node):\n",
    "    queue = deque()  \n",
    "    visited = [False for i in range(node)]\n",
    "\n",
    "    queue.append(start)\n",
    "    visited[start] = True\n",
    "    \n",
    "    while queue:\n",
    "        u = queue.popleft()\n",
    "        adj = G.adj[u]\n",
    "        for v, wt in adj.items():\n",
    "            if not visited[v] and wt['weight'] > 0:\n",
    "                queue.append(v)\n",
    "                visited[v] = True\n",
    "                parent[v] = u\n",
    "    \n",
    "    return True if visited[target] else False\n",
    "        \n",
    "            "
   ]
  },
  {
   "cell_type": "markdown",
   "metadata": {},
   "source": [
    "## FordFulkerson Algorithm"
   ]
  },
  {
   "cell_type": "code",
   "execution_count": 9,
   "metadata": {
    "collapsed": true
   },
   "outputs": [],
   "source": [
    "def FordFulkerson(source, sink, node):\n",
    "    parent = [0 for i in range(node)]\n",
    "    max_flow = 0\n",
    "    \n",
    "    while BFS(source, sink, parent, node):\n",
    "        print(\"Parent: \", parent)\n",
    "        current_flow = 1000000000\n",
    "        u = sink\n",
    "        while u is not source:\n",
    "            wt = int(G[parent[u]][u]['weight'])\n",
    "            current_flow = min(current_flow, wt) # G[1][key]['weight']\n",
    "            u = parent[u]\n",
    "        max_flow += current_flow\n",
    "        \n",
    "        v = sink\n",
    "        while v is not source:\n",
    "            p = parent[v]\n",
    "            G[p][v]['weight'] -= current_flow\n",
    "            G[v][p]['weight'] += current_flow\n",
    "            v = p\n",
    "    \n",
    "    return max_flow\n",
    "            "
   ]
  },
  {
   "cell_type": "markdown",
   "metadata": {},
   "source": [
    "## Creating the Graph"
   ]
  },
  {
   "cell_type": "code",
   "execution_count": 4,
   "metadata": {
    "collapsed": true
   },
   "outputs": [],
   "source": [
    "def CreateGraph():\n",
    "    G = nx.DiGraph()\n",
    "    f = open('input.txt')\n",
    "    n = int(f.readline())\n",
    "    for i in range(n):\n",
    "        u, v, w = f.readline().split()\n",
    "        u = int(u)\n",
    "        v = int(v)\n",
    "        w = int(w)\n",
    "        #print(u, type(u), v, type(v), w, type(w))\n",
    "        G.add_edge(u, v, weight = w) \n",
    "        G.add_edge(v, u, weight = 0)\n",
    "    return G\n"
   ]
  },
  {
   "cell_type": "markdown",
   "metadata": {},
   "source": [
    "## Drawing Graph"
   ]
  },
  {
   "cell_type": "code",
   "execution_count": 5,
   "metadata": {
    "collapsed": true
   },
   "outputs": [],
   "source": [
    "def DrawGraph(G, color):\n",
    "    pos = nx.spring_layout(G)\n",
    "    nx.draw(G, pos, with_labels = True, node_color = color, edge_color = 'black' ,width = 1, alpha = 0.7)  #with_labels=true is to show the node number in the output graph\n"
   ]
  },
  {
   "cell_type": "markdown",
   "metadata": {},
   "source": [
    "## Driving Function"
   ]
  },
  {
   "cell_type": "code",
   "execution_count": 17,
   "metadata": {
    "scrolled": false
   },
   "outputs": [
    {
     "name": "stdout",
     "output_type": "stream",
     "text": [
      "Source: 0\n",
      "Sink: 5\n"
     ]
    },
    {
     "data": {
      "image/png": "[encoded data removed]",
      "text/plain": [
       "<matplotlib.figure.Figure at 0x218cec29320>"
      ]
     },
     "metadata": {},
     "output_type": "display_data"
    },
    {
     "name": "stdout",
     "output_type": "stream",
     "text": [
      "Parent:  [0, 0, 0, 1, 2, 3]\n",
      "Parent:  [0, 0, 0, 4, 2, 4]\n",
      "Parent:  [0, 0, 0, 4, 2, 3]\n",
      "Max Flow:  23\n"
     ]
    }
   ],
   "source": [
    "if __name__ == \"__main__\":\n",
    "\n",
    "    G = CreateGraph()\n",
    "    \n",
    "    node = len(G.nodes)\n",
    "    source = int(input(\"Source: \"))\n",
    "    sink = int(input(\"Sink: \"))\n",
    "    \n",
    "    #print(G.adj[0])\n",
    "    #print(type(source), type(sink), node, type(node))\n",
    "    \n",
    "    DrawGraph(G, \"yellow\")\n",
    "    plt.show()\n",
    "    \n",
    "    print(\"Max Flow: \", FordFulkerson(source, sink, node))\n",
    "        "
   ]
  },
  {
   "cell_type": "markdown",
   "metadata": {},
   "source": []
  }
 ],
 "metadata": {
  "kernelspec": {
   "display_name": "Python 3",
   "language": "python",
   "name": "python3"
  },
  "language_info": {
   "codemirror_mode": {
    "name": "ipython",
    "version": 3
   },
   "file_extension": ".py",
   "mimetype": "text/x-python",
   "name": "python",
   "nbconvert_exporter": "python",
   "pygments_lexer": "ipython3",
   "version": "3.6.3"
  }
 },
 "nbformat": 4,
 "nbformat_minor": 2
}
