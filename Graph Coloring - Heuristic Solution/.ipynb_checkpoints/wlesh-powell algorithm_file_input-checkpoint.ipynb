{
 "cells": [
  {
   "cell_type": "code",
   "execution_count": 1,
   "metadata": {
    "collapsed": true
   },
   "outputs": [],
   "source": [
    "import networkx as nx\n",
    "import matplotlib.pyplot as plt\n",
    "import random"
   ]
  },
  {
   "cell_type": "markdown",
   "metadata": {},
   "source": [
    "## Welsh Powell algorithm"
   ]
  },
  {
   "cell_type": "code",
   "execution_count": 13,
   "metadata": {
    "collapsed": true
   },
   "outputs": [],
   "source": [
    "def WelshPowell(G):\n",
    "    #sorting the nodes based on it's degree\n",
    "    node_list = sorted(G.nodes(), key =lambda x:G.degree[x])\n",
    "    #print(node_list)\n",
    "    col_val = {} \n",
    "    col_val[node_list[0]] = 0 \n",
    "    \n",
    "    for node in node_list[1:]:\n",
    "        available = [True] * len(G.nodes())\n",
    "\n",
    "        for adj_node in G.neighbors(node): \n",
    "            if adj_node in col_val.keys():\n",
    "                col = col_val[adj_node]\n",
    "                available[col] = False\n",
    "        clr = 0\n",
    "        for clr in range(len(available)):\n",
    "            if available[clr] == True:\n",
    "                break\n",
    "        col_val[node] = clr\n",
    "    #print (col_val)\n",
    "    return col_val\n"
   ]
  },
  {
   "cell_type": "markdown",
   "metadata": {},
   "source": [
    "## Creating the Graph"
   ]
  },
  {
   "cell_type": "code",
   "execution_count": 2,
   "metadata": {
    "collapsed": true
   },
   "outputs": [],
   "source": [
    "def CreateGraph():\n",
    "    G = nx.Graph()\n",
    "    n = random.randint(5, 10)\n",
    "    for i in range(n):\n",
    "        graph_edge_list = random.randint(0, n), random.randint(0, n)\n",
    "        G.add_edge(graph_edge_list[0], graph_edge_list[1]) \n",
    "    return G\n"
   ]
  },
  {
   "cell_type": "markdown",
   "metadata": {},
   "source": [
    "## Drawing Original Graph"
   ]
  },
  {
   "cell_type": "code",
   "execution_count": 3,
   "metadata": {
    "collapsed": true
   },
   "outputs": [],
   "source": [
    "def DrawOriginalGraph(G):\n",
    "    pos = nx.spring_layout(G)\n",
    "    nx.draw(G, pos, with_labels = True, node_color = \"green\", edge_color = 'black' ,width = 1, alpha = 0.7)  #with_labels=true is to show the node number in the output graph\n"
   ]
  },
  {
   "cell_type": "markdown",
   "metadata": {},
   "source": [
    "## Drawing Solution Graph"
   ]
  },
  {
   "cell_type": "code",
   "execution_count": 5,
   "metadata": {
    "collapsed": true
   },
   "outputs": [],
   "source": [
    "def DrawSolutionGraph(G,col_val):\n",
    "    pos = nx.spring_layout(G)\n",
    "    values = []\n",
    "    for node in G.nodes():\n",
    "        values.append(col_val.get(node, col_val.get(node)))\n",
    "    nx.draw(G, pos, with_labels = True, node_color = values, edge_color = 'black' ,width = 1, alpha = 0.7)  #with_labels=true is to show the node number in the output graph\n"
   ]
  },
  {
   "cell_type": "markdown",
   "metadata": {},
   "source": [
    "## Driving Function"
   ]
  },
  {
   "cell_type": "code",
   "execution_count": 15,
   "metadata": {},
   "outputs": [
    {
     "data": {
      "image/png": "[encoded data removed]",
      "text/plain": [
       "<matplotlib.figure.Figure at 0x1cc8c01f358>"
      ]
     },
     "metadata": {},
     "output_type": "display_data"
    },
    {
     "data": {
      "image/png": "[encoded data removed]",
      "text/plain": [
       "<matplotlib.figure.Figure at 0x1cc8c04aeb8>"
      ]
     },
     "metadata": {},
     "output_type": "display_data"
    }
   ],
   "source": [
    "if __name__ == \"__main__\":\n",
    "    G = CreateGraph()\n",
    "    #print(list(G.nodes))\n",
    "    #print(list(G.edges))\n",
    "    #print(list(G.adj))\n",
    "    #print(list(G.degree))\n",
    "    col_val = WelshPowell(G)\n",
    "    DrawOriginalGraph(G)\n",
    "    plt.show()\n",
    "    DrawSolutionGraph(G,col_val)\n",
    "    plt.show()\n",
    "    "
   ]
  },
  {
   "cell_type": "code",
   "execution_count": null,
   "metadata": {
    "collapsed": true
   },
   "outputs": [],
   "source": []
  }
 ],
 "metadata": {
  "kernelspec": {
   "display_name": "Python 3",
   "language": "python",
   "name": "python3"
  },
  "language_info": {
   "codemirror_mode": {
    "name": "ipython",
    "version": 3
   },
   "file_extension": ".py",
   "mimetype": "text/x-python",
   "name": "python",
   "nbconvert_exporter": "python",
   "pygments_lexer": "ipython3",
   "version": "3.6.3"
  }
 },
 "nbformat": 4,
 "nbformat_minor": 2
}
